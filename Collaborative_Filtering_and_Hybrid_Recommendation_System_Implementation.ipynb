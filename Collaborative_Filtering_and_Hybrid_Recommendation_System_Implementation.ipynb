{
  "nbformat": 4,
  "nbformat_minor": 0,
  "metadata": {
    "colab": {
      "provenance": []
    },
    "kernelspec": {
      "name": "python3",
      "display_name": "Python 3"
    },
    "language_info": {
      "name": "python"
    }
  },
  "cells": [
    {
      "cell_type": "markdown",
      "source": [
        "Load your Indian movie dataset files (ratings and movie info)"
      ],
      "metadata": {
        "id": "TBMDXm5EuI67"
      }
    },
    {
      "cell_type": "code",
      "source": [
        "import pandas as pd\n",
        "import numpy as np\n",
        "from sklearn.feature_extraction.text import TfidfVectorizer\n",
        "from sklearn.metrics.pairwise import cosine_similarity\n",
        "from sklearn.preprocessing import MinMaxScaler\n",
        "from scipy.sparse.linalg import svds\n",
        "from scipy.sparse import hstack\n",
        "\n",
        "# Example: load ratings and movies from Indian dataset files\n",
        "ratings = pd.read_csv(\"indian_ratings.csv\")  # should have columns: user_id, movie_id, rating\n",
        "movies = pd.read_csv(\"indian_movies.csv\")    # should have columns: movie_id, title, genres (or genre flags)\n",
        "\n",
        "# Adjust this depending on the dataset schema:\n",
        "# Assume 'genres' is a single string of genres separated by '|', e.g., \"Action|Drama|Romance\"\n"
      ],
      "metadata": {
        "id": "wiCfglUOtd5L"
      },
      "execution_count": 3,
      "outputs": []
    },
    {
      "cell_type": "markdown",
      "source": [
        "Preprocess movies to extract genres matrix and titles"
      ],
      "metadata": {
        "id": "uGn2y1fXuGWE"
      }
    },
    {
      "cell_type": "code",
      "source": [
        "# If genres are stored as strings separated by \"|\", convert to dummy columns\n",
        "movies['genres'] = movies['genres'].fillna('')\n",
        "genres_split = movies['genres'].str.get_dummies(sep='|')  # creates genre_ columns\n",
        "\n",
        "# Use genres as features + TF-IDF vector for titles (or synopsis if available)\n",
        "tfidf = TfidfVectorizer(stop_words='english')\n",
        "title_tfidf = tfidf.fit_transform(movies['title'].fillna(''))\n",
        "\n",
        "# Combine genre matrix and title TF-IDF matrix horizontally\n",
        "content_features = hstack([genres_split.values, title_tfidf])\n"
      ],
      "metadata": {
        "id": "ASKllcrXthUg"
      },
      "execution_count": 4,
      "outputs": []
    },
    {
      "cell_type": "markdown",
      "source": [
        "Prepare the ratings matrix for collaborative filtering"
      ],
      "metadata": {
        "id": "nhxDcWoxuDm1"
      }
    },
    {
      "cell_type": "code",
      "source": [
        "n_users = ratings.user_id.nunique()\n",
        "n_items = ratings.movie_id.nunique()\n",
        "\n",
        "R = ratings.pivot(index='user_id', columns='movie_id', values='rating').fillna(0).values\n",
        "user_ratings_mean = np.mean(R, axis=1)\n",
        "R_demeaned = R - user_ratings_mean.reshape(-1, 1)\n",
        "\n",
        "k = min(50, min(R_demeaned.shape) - 1)  # fix k here\n",
        "U, sigma, Vt = svds(R_demeaned, k=k)\n",
        "sigma = np.diag(sigma)\n",
        "pred_ratings = np.dot(np.dot(U, sigma), Vt) + user_ratings_mean.reshape(-1, 1)\n",
        "\n",
        "cf_preds_df = pd.DataFrame(pred_ratings, index=np.arange(1, n_users+1), columns=np.arange(1, n_items+1))\n"
      ],
      "metadata": {
        "id": "lj5X_Vz5tleD"
      },
      "execution_count": 6,
      "outputs": []
    },
    {
      "cell_type": "markdown",
      "source": [
        "Compute item-item similarity matrix (content-based)"
      ],
      "metadata": {
        "id": "RQS7Jg5luXh4"
      }
    },
    {
      "cell_type": "code",
      "source": [
        "item_sim = cosine_similarity(content_features)\n"
      ],
      "metadata": {
        "id": "Ivxnjbt0txui"
      },
      "execution_count": 7,
      "outputs": []
    },
    {
      "cell_type": "markdown",
      "source": [
        "Map movie IDs to matrix indices"
      ],
      "metadata": {
        "id": "2P6eLOtzuaAj"
      }
    },
    {
      "cell_type": "code",
      "source": [
        "movie_id_to_idx = {mid: idx for idx, mid in enumerate(movies['movie_id'])}\n",
        "idx_to_movie_id = {idx: mid for mid, idx in movie_id_to_idx.items()}\n"
      ],
      "metadata": {
        "id": "EDpzg7Ect0eS"
      },
      "execution_count": 8,
      "outputs": []
    },
    {
      "cell_type": "markdown",
      "source": [
        "Define the hybrid recommender function"
      ],
      "metadata": {
        "id": "W6cI9PKLuBL8"
      }
    },
    {
      "cell_type": "code",
      "source": [
        "def hybrid_recommend(user_id, alpha=0.7, N=10):\n",
        "    # Collaborative filtering predictions for this user\n",
        "    cf_scores = cf_preds_df.loc[user_id].to_dict()\n",
        "\n",
        "    scaler = MinMaxScaler()\n",
        "    cf_norm = dict(zip(cf_scores.keys(), scaler.fit_transform(np.array(list(cf_scores.values())).reshape(-1,1)).flatten()))\n",
        "\n",
        "    # Get items rated highly by user (>=4 rating)\n",
        "    rated_items = ratings[(ratings.user_id==user_id) & (ratings.rating >= 4)].movie_id.values\n",
        "\n",
        "    if len(rated_items) > 0:\n",
        "        rated_idxs = [movie_id_to_idx[iid] for iid in rated_items if iid in movie_id_to_idx]\n",
        "        content_scores = item_sim[rated_idxs].mean(axis=0)  # average similarity with liked items\n",
        "        content_norm = dict(zip(movies.movie_id, scaler.fit_transform(content_scores.reshape(-1,1)).flatten()))\n",
        "    else:\n",
        "        content_norm = {iid: 0 for iid in movies.movie_id}\n",
        "\n",
        "    # Combine CF and content scores\n",
        "    hybrid_scores = {iid: alpha * cf_norm.get(iid, 0) + (1 - alpha) * content_norm.get(iid, 0) for iid in movies.movie_id}\n",
        "\n",
        "    # Remove movies already rated by user\n",
        "    rated = set(ratings[ratings.user_id == user_id].movie_id.values)\n",
        "    hybrid_scores = {iid: score for iid, score in hybrid_scores.items() if iid not in rated}\n",
        "\n",
        "    # Sort and return top N\n",
        "    topN = sorted(hybrid_scores.items(), key=lambda x: x[1], reverse=True)[:N]\n",
        "    return [(iid, movies.loc[movies.movie_id == iid, 'title'].values[0], score) for iid, score in topN]\n"
      ],
      "metadata": {
        "id": "rNehdRoAt2G6"
      },
      "execution_count": 9,
      "outputs": []
    },
    {
      "cell_type": "markdown",
      "source": [
        "Use the hybrid recommender"
      ],
      "metadata": {
        "id": "9Twcv3Wjt9-L"
      }
    },
    {
      "cell_type": "code",
      "source": [
        "for movie_id, title, score in hybrid_recommend(user_id=1, alpha=0.7, N=10):\n",
        "    print(f\"{movie_id} | {score:.4f} | {title}\")\n"
      ],
      "metadata": {
        "colab": {
          "base_uri": "https://localhost:8080/"
        },
        "id": "2Fhmd-Xqt55D",
        "outputId": "804dcc26-fbc8-4498-88b8-d4c010e133af"
      },
      "execution_count": 10,
      "outputs": [
        {
          "output_type": "stream",
          "name": "stdout",
          "text": [
            "12 | 0.2421 | Zindagi Na Milegi Dobara\n",
            "4 | 0.2421 | PK\n",
            "9 | 0.1742 | Taare Zameen Par\n",
            "17 | 0.1671 | Padmaavat\n",
            "3 | 0.1593 | Dangal\n",
            "6 | 0.1593 | Bajrangi Bhaijaan\n",
            "16 | 0.1593 | Tanhaji\n",
            "10 | 0.1590 | Gully Boy\n",
            "20 | 0.1590 | Secret Superstar\n",
            "5 | 0.1590 | Queen\n"
          ]
        }
      ]
    }
  ]
}